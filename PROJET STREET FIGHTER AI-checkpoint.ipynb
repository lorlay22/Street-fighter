{
 "cells": [
  {
   "cell_type": "markdown",
   "id": "5349acdf-9154-4b7f-b555-f14d9e79157a",
   "metadata": {},
   "source": [
    "# PROJET STREET FIGHTER AI"
   ]
  },
  {
   "cell_type": "markdown",
   "id": "2640b936-67ae-40cc-9184-15bd9efad9a5",
   "metadata": {},
   "source": [
    "Made by those (cool) guys:\n",
    "- RACHATI Imad\n",
    "- AIT MOHEMO Hamza\n",
    "- AIT SAHEL Lorlay\n",
    "- MAIZA Farès"
   ]
  },
  {
   "cell_type": "markdown",
   "id": "0b1702eb-581c-4ada-ad69-fc5a0ee2370d",
   "metadata": {},
   "source": [
    "## Setup Street fighter"
   ]
  },
  {
   "cell_type": "markdown",
   "id": "dee1e8ed",
   "metadata": {},
   "source": [
    "INITIALISATION DES LIBRAIRIE DE L'ENVIRONNEMENT (extremement important)"
   ]
  },
  {
   "cell_type": "code",
   "execution_count": 1,
   "id": "36c6bafb",
   "metadata": {},
   "outputs": [
    {
     "name": "stdout",
     "output_type": "stream",
     "text": [
      "Collecting importlib-metadata==4.13.0\n",
      "  Downloading importlib_metadata-4.13.0-py3-none-any.whl.metadata (4.9 kB)\n",
      "Collecting zipp>=0.5 (from importlib-metadata==4.13.0)\n",
      "  Downloading zipp-3.21.0-py3-none-any.whl.metadata (3.7 kB)\n",
      "Downloading importlib_metadata-4.13.0-py3-none-any.whl (23 kB)\n",
      "Downloading zipp-3.21.0-py3-none-any.whl (9.6 kB)\n",
      "Installing collected packages: zipp, importlib-metadata\n",
      "Successfully installed importlib-metadata-4.13.0 zipp-3.21.0\n",
      "Note: you may need to restart the kernel to use updated packages.\n"
     ]
    },
    {
     "name": "stderr",
     "output_type": "stream",
     "text": [
      "\n",
      "[notice] A new release of pip is available: 24.0 -> 24.3.1\n",
      "[notice] To update, run: C:\\Users\\imadr\\AppData\\Local\\Microsoft\\WindowsApps\\PythonSoftwareFoundation.Python.3.11_qbz5n2kfra8p0\\python.exe -m pip install --upgrade pip\n"
     ]
    }
   ],
   "source": [
    "pip install importlib-metadata==4.13.0"
   ]
  },
  {
   "cell_type": "code",
   "execution_count": 2,
   "id": "b38fb729",
   "metadata": {},
   "outputs": [
    {
     "name": "stdout",
     "output_type": "stream",
     "text": [
      "Collecting pyglet==1.5.27\n",
      "  Downloading pyglet-1.5.27-py3-none-any.whl.metadata (7.6 kB)\n",
      "Downloading pyglet-1.5.27-py3-none-any.whl (1.1 MB)\n",
      "   ---------------------------------------- 0.0/1.1 MB ? eta -:--:--\n",
      "   - -------------------------------------- 0.0/1.1 MB 1.3 MB/s eta 0:00:01\n",
      "   ------- -------------------------------- 0.2/1.1 MB 3.1 MB/s eta 0:00:01\n",
      "   ------------- -------------------------- 0.4/1.1 MB 4.9 MB/s eta 0:00:01\n",
      "   ------------- -------------------------- 0.4/1.1 MB 4.9 MB/s eta 0:00:01\n",
      "   ----------------------- ---------------- 0.7/1.1 MB 3.5 MB/s eta 0:00:01\n",
      "   ------------------------ --------------- 0.7/1.1 MB 3.3 MB/s eta 0:00:01\n",
      "   ------------------------ --------------- 0.7/1.1 MB 3.3 MB/s eta 0:00:01\n",
      "   --------------------------- ------------ 0.8/1.1 MB 2.2 MB/s eta 0:00:01\n",
      "   ---------------------------------------  1.1/1.1 MB 3.0 MB/s eta 0:00:01\n",
      "   ---------------------------------------- 1.1/1.1 MB 2.9 MB/s eta 0:00:00\n",
      "Installing collected packages: pyglet\n",
      "Successfully installed pyglet-1.5.27\n",
      "Note: you may need to restart the kernel to use updated packages.\n"
     ]
    },
    {
     "name": "stderr",
     "output_type": "stream",
     "text": [
      "\n",
      "[notice] A new release of pip is available: 24.0 -> 24.3.1\n",
      "[notice] To update, run: C:\\Users\\imadr\\AppData\\Local\\Microsoft\\WindowsApps\\PythonSoftwareFoundation.Python.3.11_qbz5n2kfra8p0\\python.exe -m pip install --upgrade pip\n"
     ]
    }
   ],
   "source": [
    "pip install pyglet==1.5.27"
   ]
  },
  {
   "cell_type": "code",
   "execution_count": 3,
   "id": "2c3c4ccb-ef81-416b-b77f-27f6e1d519a8",
   "metadata": {
    "scrolled": true
   },
   "outputs": [
    {
     "name": "stdout",
     "output_type": "stream",
     "text": [
      "Collecting gym==0.21.0Note: you may need to restart the kernel to use updated packages.\n"
     ]
    },
    {
     "name": "stderr",
     "output_type": "stream",
     "text": [
      "  error: subprocess-exited-with-error\n",
      "  \n",
      "  × Getting requirements to build wheel did not run successfully.\n",
      "  │ exit code: 1\n",
      "  ╰─> [3 lines of output]\n",
      "      C:\\Users\\imadr\\AppData\\Local\\Temp\\pip-build-env-n0quszes\\overlay\\Lib\\site-packages\\setuptools\\_distutils\\dist.py:261: UserWarning: Unknown distribution option: 'tests_require'\n",
      "        warnings.warn(msg)\n",
      "      error in gym setup command: 'extras_require' must be a dictionary whose values are strings or lists of strings containing valid project/version requirement specifiers.\n",
      "      [end of output]\n",
      "  \n",
      "  note: This error originates from a subprocess, and is likely not a problem with pip.\n",
      "error: subprocess-exited-with-error\n",
      "\n",
      "× Getting requirements to build wheel did not run successfully.\n",
      "│ exit code: 1\n",
      "╰─> See above for output.\n",
      "\n",
      "note: This error originates from a subprocess, and is likely not a problem with pip.\n",
      "\n",
      "[notice] A new release of pip is available: 24.0 -> 24.3.1\n",
      "[notice] To update, run: C:\\Users\\imadr\\AppData\\Local\\Microsoft\\WindowsApps\\PythonSoftwareFoundation.Python.3.11_qbz5n2kfra8p0\\python.exe -m pip install --upgrade pip\n"
     ]
    },
    {
     "name": "stdout",
     "output_type": "stream",
     "text": [
      "\n",
      "  Downloading gym-0.21.0.tar.gz (1.5 MB)\n",
      "     ---------------------------------------- 0.0/1.5 MB ? eta -:--:--\n",
      "      --------------------------------------- 0.0/1.5 MB 660.6 kB/s eta 0:00:03\n",
      "     ---- ----------------------------------- 0.2/1.5 MB 2.1 MB/s eta 0:00:01\n",
      "     ---- ----------------------------------- 0.2/1.5 MB 2.1 MB/s eta 0:00:01\n",
      "     ------- -------------------------------- 0.3/1.5 MB 1.6 MB/s eta 0:00:01\n",
      "     ------------- -------------------------- 0.5/1.5 MB 2.3 MB/s eta 0:00:01\n",
      "     ---------------------- ----------------- 0.8/1.5 MB 3.2 MB/s eta 0:00:01\n",
      "     ----------------------------- ---------- 1.1/1.5 MB 3.8 MB/s eta 0:00:01\n",
      "     ------------------------------ --------- 1.2/1.5 MB 3.7 MB/s eta 0:00:01\n",
      "     ------------------------------ --------- 1.2/1.5 MB 3.7 MB/s eta 0:00:01\n",
      "     --------------------------------- ------ 1.3/1.5 MB 2.9 MB/s eta 0:00:01\n",
      "     --------------------------------- ------ 1.3/1.5 MB 2.9 MB/s eta 0:00:01\n",
      "     ---------------------------------------- 1.5/1.5 MB 2.9 MB/s eta 0:00:00\n",
      "  Installing build dependencies: started\n",
      "  Installing build dependencies: finished with status 'done'\n",
      "  Getting requirements to build wheel: started\n",
      "  Getting requirements to build wheel: finished with status 'error'\n"
     ]
    }
   ],
   "source": [
    "pip install gym==0.21.0 gym-retro"
   ]
  },
  {
   "cell_type": "code",
   "execution_count": 4,
   "id": "869b2204-66ea-4549-86b8-3a1e7ba8c742",
   "metadata": {},
   "outputs": [
    {
     "ename": "ModuleNotFoundError",
     "evalue": "No module named 'retro'",
     "output_type": "error",
     "traceback": [
      "\u001b[1;31m---------------------------------------------------------------------------\u001b[0m",
      "\u001b[1;31mModuleNotFoundError\u001b[0m                       Traceback (most recent call last)",
      "Cell \u001b[1;32mIn[4], line 2\u001b[0m\n\u001b[0;32m      1\u001b[0m \u001b[38;5;66;03m# On import l'environnement de Gym retro pour pouvoir jouer a street fighter dessus (avec une ROM)\u001b[39;00m\n\u001b[1;32m----> 2\u001b[0m \u001b[38;5;28;01mimport\u001b[39;00m \u001b[38;5;21;01mretro\u001b[39;00m\n\u001b[0;32m      3\u001b[0m \u001b[38;5;28;01mimport\u001b[39;00m \u001b[38;5;21;01mtime\u001b[39;00m\n",
      "\u001b[1;31mModuleNotFoundError\u001b[0m: No module named 'retro'"
     ]
    }
   ],
   "source": [
    "# On import l'environnement de Gym retro pour pouvoir jouer a street fighter dessus (avec une ROM)\n",
    "import retro\n",
    "import time"
   ]
  },
  {
   "cell_type": "code",
   "execution_count": 2,
   "id": "c43d1ae1-4844-4ade-b6d3-7fb2d3fc5602",
   "metadata": {},
   "outputs": [],
   "source": [
    "#python -m retro.import ."
   ]
  },
  {
   "cell_type": "code",
   "execution_count": 3,
   "id": "e042441a-717a-4c42-b42f-a720ab2c77ca",
   "metadata": {},
   "outputs": [],
   "source": [
    "# Créer une instance de notre environnement Street fighters\n",
    "env = retro.make(game='StreetFighterIISpecialChampionEdition-Genesis')"
   ]
  },
  {
   "cell_type": "code",
   "execution_count": 4,
   "id": "f82d7d23-6da9-437c-8aab-b47ca408f575",
   "metadata": {},
   "outputs": [],
   "source": [
    "# on ne peux lancer qu'un environnement a la fois, avant de le relancer fermez l'ancien avec :\n",
    "#env.close()"
   ]
  },
  {
   "cell_type": "markdown",
   "id": "49bd80fb",
   "metadata": {},
   "source": [
    "### Qu'est ce que le \"env\""
   ]
  },
  {
   "cell_type": "code",
   "execution_count": 5,
   "id": "699e9e7a",
   "metadata": {},
   "outputs": [
    {
     "data": {
      "text/plain": [
       "Box([[[0 0 0]\n",
       "  [0 0 0]\n",
       "  [0 0 0]\n",
       "  ...\n",
       "  [0 0 0]\n",
       "  [0 0 0]\n",
       "  [0 0 0]]\n",
       "\n",
       " [[0 0 0]\n",
       "  [0 0 0]\n",
       "  [0 0 0]\n",
       "  ...\n",
       "  [0 0 0]\n",
       "  [0 0 0]\n",
       "  [0 0 0]]\n",
       "\n",
       " [[0 0 0]\n",
       "  [0 0 0]\n",
       "  [0 0 0]\n",
       "  ...\n",
       "  [0 0 0]\n",
       "  [0 0 0]\n",
       "  [0 0 0]]\n",
       "\n",
       " ...\n",
       "\n",
       " [[0 0 0]\n",
       "  [0 0 0]\n",
       "  [0 0 0]\n",
       "  ...\n",
       "  [0 0 0]\n",
       "  [0 0 0]\n",
       "  [0 0 0]]\n",
       "\n",
       " [[0 0 0]\n",
       "  [0 0 0]\n",
       "  [0 0 0]\n",
       "  ...\n",
       "  [0 0 0]\n",
       "  [0 0 0]\n",
       "  [0 0 0]]\n",
       "\n",
       " [[0 0 0]\n",
       "  [0 0 0]\n",
       "  [0 0 0]\n",
       "  ...\n",
       "  [0 0 0]\n",
       "  [0 0 0]\n",
       "  [0 0 0]]], [[[255 255 255]\n",
       "  [255 255 255]\n",
       "  [255 255 255]\n",
       "  ...\n",
       "  [255 255 255]\n",
       "  [255 255 255]\n",
       "  [255 255 255]]\n",
       "\n",
       " [[255 255 255]\n",
       "  [255 255 255]\n",
       "  [255 255 255]\n",
       "  ...\n",
       "  [255 255 255]\n",
       "  [255 255 255]\n",
       "  [255 255 255]]\n",
       "\n",
       " [[255 255 255]\n",
       "  [255 255 255]\n",
       "  [255 255 255]\n",
       "  ...\n",
       "  [255 255 255]\n",
       "  [255 255 255]\n",
       "  [255 255 255]]\n",
       "\n",
       " ...\n",
       "\n",
       " [[255 255 255]\n",
       "  [255 255 255]\n",
       "  [255 255 255]\n",
       "  ...\n",
       "  [255 255 255]\n",
       "  [255 255 255]\n",
       "  [255 255 255]]\n",
       "\n",
       " [[255 255 255]\n",
       "  [255 255 255]\n",
       "  [255 255 255]\n",
       "  ...\n",
       "  [255 255 255]\n",
       "  [255 255 255]\n",
       "  [255 255 255]]\n",
       "\n",
       " [[255 255 255]\n",
       "  [255 255 255]\n",
       "  [255 255 255]\n",
       "  ...\n",
       "  [255 255 255]\n",
       "  [255 255 255]\n",
       "  [255 255 255]]], (200, 256, 3), uint8)"
      ]
     },
     "execution_count": 5,
     "metadata": {},
     "output_type": "execute_result"
    }
   ],
   "source": [
    "#On constate avec observation spaces que le env contient une matrice de dimension 200x256x3\n",
    "#En gros c'est une image de dimension 200x256 et le 3 c'est l'info rgb\n",
    "env.observation_space"
   ]
  },
  {
   "cell_type": "code",
   "execution_count": 6,
   "id": "548d935c-d5db-4106-b817-915530b7f007",
   "metadata": {},
   "outputs": [
    {
     "data": {
      "text/plain": [
       "MultiBinary(12)"
      ]
     },
     "execution_count": 6,
     "metadata": {},
     "output_type": "execute_result"
    }
   ],
   "source": [
    "# la fonction action_space retourne un \"Multibinary 12\"\n",
    "# pour faire simple c'est une liste de 12 bits qui permettent des actions\n",
    "# par exemple : \n",
    "# [1,1,1,0,1,1,1,1,0,1,1,1] est une action précise (ptet coup de poing)\n",
    "# [1,0,1,1,0,0,0,1,0,1,1,0] est aussi une autre action precise (ptet coup de pied)\n",
    "# En gros c'est comme la manette du jeu\n",
    "# ça liste tout les moves possibles\n",
    "\n",
    "env.action_space"
   ]
  },
  {
   "cell_type": "code",
   "execution_count": 7,
   "id": "9353d172-587f-4dd6-9f8c-ed8af49c4d14",
   "metadata": {},
   "outputs": [
    {
     "data": {
      "text/plain": [
       "array([1, 1, 1, 0, 0, 0, 0, 0, 1, 1, 0, 1], dtype=int8)"
      ]
     },
     "execution_count": 7,
     "metadata": {},
     "output_type": "execute_result"
    }
   ],
   "source": [
    "#exemple de move possible\n",
    "env.action_space.sample()"
   ]
  },
  {
   "cell_type": "markdown",
   "id": "96771ac9",
   "metadata": {},
   "source": [
    "### Ecriture de la boucle de jeu"
   ]
  },
  {
   "cell_type": "code",
   "execution_count": 8,
   "id": "9ff2b3bb-77f1-4706-9f8d-843cb0bf1a98",
   "metadata": {
    "scrolled": true
   },
   "outputs": [
    {
     "name": "stderr",
     "output_type": "stream",
     "text": [
      "C:\\Users\\maiza\\anaconda3\\envs\\gym_env\\lib\\site-packages\\pyglet\\image\\codecs\\wic.py:406: UserWarning: [WinError -2147417850] Impossible de modifier le mode thread une fois qu’il a été fixé\n",
      "  warnings.warn(str(err))\n"
     ]
    }
   ],
   "source": [
    "# On remet le jeu a son etat initial (on reset en gros)\n",
    "obs = env.reset()\n",
    "# c'est le flag qui retourne True si le jeu est fini (si on a perdu ou gagné)\n",
    "done = False\n",
    "for game in range(1):\n",
    "    while not done: \n",
    "        if done: \n",
    "            obs = env.reset()\n",
    "        env.render()\n",
    "        #                              grâce a ça on va faire un move\n",
    "        # et ça va nous retourner le                ||\n",
    "        # résultat de ce move                       v\n",
    "        obs, reward, done, info = env.step(env.action_space.sample())\n",
    "        \n",
    "        # Je l'ai mis en commentaire mais vous pouvez l'enlever\n",
    "        # mais chaque fois que notre personnage arrive a toucher l'adversaire il gagne des points (100 je crois)\n",
    "        # et quand il gagne il gagne 1500 points (même plus je crois)\n",
    "        # print(reward)\n",
    "        \n",
    "        #Si vous vouslez que le gameplay sois a vitesse réelle, retirer le commentaire ici:\n",
    "        #time.sleep(0.01)"
   ]
  },
  {
   "cell_type": "code",
   "execution_count": null,
   "id": "8c062d81",
   "metadata": {},
   "outputs": [],
   "source": [
    "env.close()"
   ]
  },
  {
   "cell_type": "code",
   "execution_count": null,
   "id": "a9dfa557",
   "metadata": {},
   "outputs": [],
   "source": []
  },
  {
   "cell_type": "code",
   "execution_count": null,
   "id": "9defa2ef-6376-4f90-affa-53dbb5e3c9d1",
   "metadata": {},
   "outputs": [],
   "source": []
  }
 ],
 "metadata": {
  "kernelspec": {
   "display_name": "Python 3",
   "language": "python",
   "name": "python3"
  },
  "language_info": {
   "codemirror_mode": {
    "name": "ipython",
    "version": 3
   },
   "file_extension": ".py",
   "mimetype": "text/x-python",
   "name": "python",
   "nbconvert_exporter": "python",
   "pygments_lexer": "ipython3",
   "version": "3.11.9"
  }
 },
 "nbformat": 4,
 "nbformat_minor": 5
}
